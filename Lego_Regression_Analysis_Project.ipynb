{
 "cells": [
  {
   "cell_type": "markdown",
   "metadata": {
    "index": 0
   },
   "source": [
    "# LEGO Regression Project\n",
    "\n",
    "## Introduction \n",
    "\n",
    "In this notebook a simple linear regression analysis is performed and reported the findings of the model, including both predictive model performance metrics and interpretation of fitted model parameters.\n"
   ]
  },
  {
   "cell_type": "markdown",
   "metadata": {
    "index": 1
   },
   "source": [
    "# Task: Develop a LEGO Pricing Algorithm\n",
    "\n",
    "![pile of legos](images/legos.jpg)\n",
    "\n",
    "Photo by <a href=\"https://unsplash.com/@xavi_cabrera?utm_source=unsplash&utm_medium=referral&utm_content=creditCopyText\">Xavi Cabrera</a> on <a href=\"/s/photos/lego?utm_source=unsplash&utm_medium=referral&utm_content=creditCopyText\">Unsplash</a>"
   ]
  },
  {
   "cell_type": "markdown",
   "metadata": {
    "index": 2
   },
   "source": [
    "## Business Understanding\n",
    "\n",
    "You just got hired by LEGO! Your first project is going to be to develop a pricing algorithm in order to analyze the value of individual lego pieces.\n",
    "\n",
    "The primary purpose of this algorithm is *inferential*, meaning that **the model should be able to tell us something about the relationship between the attributes of a LEGO set and its price**. We will apply knowledge of statistics to include appropriate caveats about these relationships.\n",
    "\n",
    "## Data Understanding\n",
    "\n",
    "You have been given access to an sql database containing over 700 LEGO sets released in the past, including attributes of those sets as youll as their prices.\n",
    "\n",
    "You do not need to worry about inflation or differences in currency; just predict the same kinds of prices as are present in the past data, which have already been converted to USD.\n",
    "\n",
    "## Loading the Data\n",
    "\n",
    "The entity relational diagram (E.R.D) for the legos database is displayed below. \n",
    "\n",
    "![Entity Relational Diagram](images/erd.png)"
   ]
  },
  {
   "cell_type": "code",
   "execution_count": 7,
   "metadata": {
    "index": 3,
    "scrolled": false
   },
   "outputs": [],
   "source": [
    "# Run this cell without changes\n",
    "import sqlite3\n",
    "import pandas as pd\n",
    "import matplotlib.pyplot as plt\n",
    "%matplotlib inline"
   ]
  },
  {
   "cell_type": "code",
   "execution_count": 8,
   "metadata": {
    "scrolled": false
   },
   "outputs": [
    {
     "name": "stdout",
     "output_type": "stream",
     "text": [
      "legos.db\r\n"
     ]
    }
   ],
   "source": [
    "!ls data"
   ]
  },
  {
   "cell_type": "code",
   "execution_count": 9,
   "metadata": {
    "index": 5,
    "scrolled": false
   },
   "outputs": [],
   "source": [
    "# Replace None with your code\n",
    "\n",
    "connection = sqlite3.connect('data/legos.db')\n",
    "\n",
    "sql_query = \"\"\"\n",
    "SELECT *\n",
    "FROM difficulty\n",
    "JOIN product_info\n",
    "    USING(\"Prod Id\")\n",
    "JOIN metrics\n",
    "    USING(\"Prod Id\")\n",
    "\"\"\"\n",
    "\n",
    "df = pd.read_sql(sql_query, connection)"
   ]
  },
  {
   "cell_type": "code",
   "execution_count": 10,
   "metadata": {
    "scrolled": false
   },
   "outputs": [
    {
     "name": "stdout",
     "output_type": "stream",
     "text": [
      "<class 'pandas.core.frame.DataFrame'>\n",
      "RangeIndex: 884 entries, 0 to 883\n",
      "Data columns (total 11 columns):\n",
      " #   Column            Non-Null Count  Dtype  \n",
      "---  ------            --------------  -----  \n",
      " 0   Prod Id           884 non-null    int64  \n",
      " 1   Min Age           884 non-null    float64\n",
      " 2   Max Age           884 non-null    float64\n",
      " 3   Difficulty Level  884 non-null    int64  \n",
      " 4   Set Name          884 non-null    object \n",
      " 5   Prod Desc         864 non-null    object \n",
      " 6   Theme Name        884 non-null    object \n",
      " 7   Piece Count       884 non-null    int64  \n",
      " 8   Num Reviews       781 non-null    float64\n",
      " 9   Star Rating       781 non-null    float64\n",
      " 10  List Price        844 non-null    object \n",
      "dtypes: float64(4), int64(3), object(4)\n",
      "memory usage: 76.1+ KB\n"
     ]
    }
   ],
   "source": [
    "df.info()"
   ]
  },
  {
   "cell_type": "markdown",
   "metadata": {
    "index": 7
   },
   "source": [
    "## Analysis Requirements\n",
    "\n",
    "### 1. Data Exploration and Cleaning\n",
    "\n",
    "During the data exploration phase, the datatypes of columns should be checked, the distribution of the target variable should be inspected, null values should be either removed or replaced, and duplicates (in most cases) should be dropped. \n",
    "\n",
    "### 2. Create a Baseline Model\n",
    "\n",
    "In order to evaluate how a simple linear regression model is understanding the dependent variable, we will begin by first creating a model that predicts the mean of the dependent variable for every observation. Predicting the mean of `list_price` can be considered a highly naive model. If our simple linear regression model performs worse than this naive approach, we can safely say that it is not a very good model. \n",
    "\n",
    "### 3. Interpret a Correlation Heatmap\n",
    "\n",
    "To develop a simple linear regression model, we will identify the independent variable that is most correlated with our dependent variable. To do this this we will plot a correlation heatmap to identify the variable most correlated with `list_price`.\n",
    "\n",
    "### 4. Build a Simple Linear Regression Model\n",
    "\n",
    "Now, create a linear regression model using the `statsmodels` library where the most correlated feature is used as the independent variable and the dependent variable is properly set. \n",
    "\n",
    "### 5. Interpret the Simple Linear Regression Model\n",
    "\n",
    "Once the model has been fit, the coefficient for our independent variable, its p-value, and the coefficient confidence interval should be interpeted.\n",
    "\n",
    "### 6. Evaluate the Simple Linear Regression Model\n",
    "\n",
    "Before making a final assessment of our model, need to compare its metrics with the baseline model created in step one and need to check the assumptions of linear regression.\n"
   ]
  },
  {
   "cell_type": "markdown",
   "metadata": {
    "index": 8
   },
   "source": [
    "# 1. Data Exploration and Cleaning\n",
    "\n",
    "Inspect the dataframe by outputting the first five rows."
   ]
  },
  {
   "cell_type": "code",
   "execution_count": 11,
   "metadata": {
    "index": 9,
    "scrolled": false
   },
   "outputs": [
    {
     "data": {
      "text/html": [
       "<div>\n",
       "<style scoped>\n",
       "    .dataframe tbody tr th:only-of-type {\n",
       "        vertical-align: middle;\n",
       "    }\n",
       "\n",
       "    .dataframe tbody tr th {\n",
       "        vertical-align: top;\n",
       "    }\n",
       "\n",
       "    .dataframe thead th {\n",
       "        text-align: right;\n",
       "    }\n",
       "</style>\n",
       "<table border=\"1\" class=\"dataframe\">\n",
       "  <thead>\n",
       "    <tr style=\"text-align: right;\">\n",
       "      <th></th>\n",
       "      <th>Prod Id</th>\n",
       "      <th>Min Age</th>\n",
       "      <th>Max Age</th>\n",
       "      <th>Difficulty Level</th>\n",
       "      <th>Set Name</th>\n",
       "      <th>Prod Desc</th>\n",
       "      <th>Theme Name</th>\n",
       "      <th>Piece Count</th>\n",
       "      <th>Num Reviews</th>\n",
       "      <th>Star Rating</th>\n",
       "      <th>List Price</th>\n",
       "    </tr>\n",
       "  </thead>\n",
       "  <tbody>\n",
       "    <tr>\n",
       "      <th>0</th>\n",
       "      <td>60123</td>\n",
       "      <td>7.0</td>\n",
       "      <td>12.0</td>\n",
       "      <td>1</td>\n",
       "      <td>Volcano Supply Helicopter</td>\n",
       "      <td>Fly in the exploration gear and fly out the cr...</td>\n",
       "      <td>City</td>\n",
       "      <td>330</td>\n",
       "      <td>3.0</td>\n",
       "      <td>4.3</td>\n",
       "      <td>$49.99</td>\n",
       "    </tr>\n",
       "    <tr>\n",
       "      <th>1</th>\n",
       "      <td>71246</td>\n",
       "      <td>7.0</td>\n",
       "      <td>14.0</td>\n",
       "      <td>1</td>\n",
       "      <td>Adventure Time™ Team Pack</td>\n",
       "      <td>Explore the Land of Ooo with Jake and Lumpy Sp...</td>\n",
       "      <td>DIMENSIONS™</td>\n",
       "      <td>96</td>\n",
       "      <td>3.0</td>\n",
       "      <td>4.7</td>\n",
       "      <td>$30.362</td>\n",
       "    </tr>\n",
       "    <tr>\n",
       "      <th>2</th>\n",
       "      <td>10616</td>\n",
       "      <td>1.5</td>\n",
       "      <td>5.0</td>\n",
       "      <td>1</td>\n",
       "      <td>My First Playhouse</td>\n",
       "      <td>Learn about daily routines with this easy-to-b...</td>\n",
       "      <td>DUPLO®</td>\n",
       "      <td>25</td>\n",
       "      <td>3.0</td>\n",
       "      <td>5.0</td>\n",
       "      <td>$19.99</td>\n",
       "    </tr>\n",
       "    <tr>\n",
       "      <th>3</th>\n",
       "      <td>31079</td>\n",
       "      <td>8.0</td>\n",
       "      <td>12.0</td>\n",
       "      <td>1</td>\n",
       "      <td>Sunshine Surfer Van</td>\n",
       "      <td>Enjoy seaside fun with the 3-in-1 Sunshine Sur...</td>\n",
       "      <td>Creator 3-in-1</td>\n",
       "      <td>379</td>\n",
       "      <td>5.0</td>\n",
       "      <td>4.4</td>\n",
       "      <td>$34.99</td>\n",
       "    </tr>\n",
       "    <tr>\n",
       "      <th>4</th>\n",
       "      <td>42057</td>\n",
       "      <td>8.0</td>\n",
       "      <td>14.0</td>\n",
       "      <td>1</td>\n",
       "      <td>Ultralight Helicopter</td>\n",
       "      <td>Take to the skies with the Ultralight Helicopter!</td>\n",
       "      <td>Technic</td>\n",
       "      <td>199</td>\n",
       "      <td>9.0</td>\n",
       "      <td>4.7</td>\n",
       "      <td>$19.99</td>\n",
       "    </tr>\n",
       "  </tbody>\n",
       "</table>\n",
       "</div>"
      ],
      "text/plain": [
       "   Prod Id  Min Age  Max Age  Difficulty Level                   Set Name  \\\n",
       "0    60123      7.0     12.0                 1  Volcano Supply Helicopter   \n",
       "1    71246      7.0     14.0                 1  Adventure Time™ Team Pack   \n",
       "2    10616      1.5      5.0                 1         My First Playhouse   \n",
       "3    31079      8.0     12.0                 1        Sunshine Surfer Van   \n",
       "4    42057      8.0     14.0                 1      Ultralight Helicopter   \n",
       "\n",
       "                                           Prod Desc      Theme Name  \\\n",
       "0  Fly in the exploration gear and fly out the cr...            City   \n",
       "1  Explore the Land of Ooo with Jake and Lumpy Sp...     DIMENSIONS™   \n",
       "2  Learn about daily routines with this easy-to-b...          DUPLO®   \n",
       "3  Enjoy seaside fun with the 3-in-1 Sunshine Sur...  Creator 3-in-1   \n",
       "4  Take to the skies with the Ultralight Helicopter!         Technic   \n",
       "\n",
       "   Piece Count  Num Reviews  Star Rating List Price  \n",
       "0          330          3.0          4.3     $49.99  \n",
       "1           96          3.0          4.7    $30.362  \n",
       "2           25          3.0          5.0     $19.99  \n",
       "3          379          5.0          4.4     $34.99  \n",
       "4          199          9.0          4.7     $19.99  "
      ]
     },
     "execution_count": 11,
     "metadata": {},
     "output_type": "execute_result"
    }
   ],
   "source": [
    "df.head(5)"
   ]
  },
  {
   "cell_type": "markdown",
   "metadata": {
    "index": 11
   },
   "source": [
    "\n"
   ]
  },
  {
   "cell_type": "markdown",
   "metadata": {
    "index": 12
   },
   "source": [
    "Produce high-level descriptive information about your training data"
   ]
  },
  {
   "cell_type": "code",
   "execution_count": 12,
   "metadata": {
    "index": 13,
    "scrolled": false
   },
   "outputs": [
    {
     "data": {
      "text/html": [
       "<div>\n",
       "<style scoped>\n",
       "    .dataframe tbody tr th:only-of-type {\n",
       "        vertical-align: middle;\n",
       "    }\n",
       "\n",
       "    .dataframe tbody tr th {\n",
       "        vertical-align: top;\n",
       "    }\n",
       "\n",
       "    .dataframe thead th {\n",
       "        text-align: right;\n",
       "    }\n",
       "</style>\n",
       "<table border=\"1\" class=\"dataframe\">\n",
       "  <thead>\n",
       "    <tr style=\"text-align: right;\">\n",
       "      <th></th>\n",
       "      <th>Prod Id</th>\n",
       "      <th>Min Age</th>\n",
       "      <th>Max Age</th>\n",
       "      <th>Difficulty Level</th>\n",
       "      <th>Piece Count</th>\n",
       "      <th>Num Reviews</th>\n",
       "      <th>Star Rating</th>\n",
       "    </tr>\n",
       "  </thead>\n",
       "  <tbody>\n",
       "    <tr>\n",
       "      <th>count</th>\n",
       "      <td>8.840000e+02</td>\n",
       "      <td>884.000000</td>\n",
       "      <td>884.000000</td>\n",
       "      <td>884.000000</td>\n",
       "      <td>884.000000</td>\n",
       "      <td>781.000000</td>\n",
       "      <td>781.000000</td>\n",
       "    </tr>\n",
       "    <tr>\n",
       "      <th>mean</th>\n",
       "      <td>5.821184e+04</td>\n",
       "      <td>6.781674</td>\n",
       "      <td>27.785068</td>\n",
       "      <td>1.483032</td>\n",
       "      <td>460.990950</td>\n",
       "      <td>17.610755</td>\n",
       "      <td>4.430602</td>\n",
       "    </tr>\n",
       "    <tr>\n",
       "      <th>std</th>\n",
       "      <td>1.388029e+05</td>\n",
       "      <td>2.984551</td>\n",
       "      <td>34.019566</td>\n",
       "      <td>0.796898</td>\n",
       "      <td>928.905788</td>\n",
       "      <td>38.143280</td>\n",
       "      <td>0.592083</td>\n",
       "    </tr>\n",
       "    <tr>\n",
       "      <th>min</th>\n",
       "      <td>6.300000e+02</td>\n",
       "      <td>1.500000</td>\n",
       "      <td>3.000000</td>\n",
       "      <td>0.000000</td>\n",
       "      <td>1.000000</td>\n",
       "      <td>1.000000</td>\n",
       "      <td>1.800000</td>\n",
       "    </tr>\n",
       "    <tr>\n",
       "      <th>25%</th>\n",
       "      <td>2.113875e+04</td>\n",
       "      <td>5.000000</td>\n",
       "      <td>12.000000</td>\n",
       "      <td>1.000000</td>\n",
       "      <td>88.750000</td>\n",
       "      <td>2.000000</td>\n",
       "      <td>4.100000</td>\n",
       "    </tr>\n",
       "    <tr>\n",
       "      <th>50%</th>\n",
       "      <td>4.550550e+04</td>\n",
       "      <td>7.000000</td>\n",
       "      <td>14.000000</td>\n",
       "      <td>2.000000</td>\n",
       "      <td>185.500000</td>\n",
       "      <td>6.000000</td>\n",
       "      <td>4.600000</td>\n",
       "    </tr>\n",
       "    <tr>\n",
       "      <th>75%</th>\n",
       "      <td>7.122825e+04</td>\n",
       "      <td>8.000000</td>\n",
       "      <td>14.000000</td>\n",
       "      <td>2.000000</td>\n",
       "      <td>457.750000</td>\n",
       "      <td>13.000000</td>\n",
       "      <td>4.900000</td>\n",
       "    </tr>\n",
       "    <tr>\n",
       "      <th>max</th>\n",
       "      <td>2.000431e+06</td>\n",
       "      <td>16.000000</td>\n",
       "      <td>99.000000</td>\n",
       "      <td>4.000000</td>\n",
       "      <td>7541.000000</td>\n",
       "      <td>367.000000</td>\n",
       "      <td>5.000000</td>\n",
       "    </tr>\n",
       "  </tbody>\n",
       "</table>\n",
       "</div>"
      ],
      "text/plain": [
       "            Prod Id     Min Age     Max Age  Difficulty Level  Piece Count  \\\n",
       "count  8.840000e+02  884.000000  884.000000        884.000000   884.000000   \n",
       "mean   5.821184e+04    6.781674   27.785068          1.483032   460.990950   \n",
       "std    1.388029e+05    2.984551   34.019566          0.796898   928.905788   \n",
       "min    6.300000e+02    1.500000    3.000000          0.000000     1.000000   \n",
       "25%    2.113875e+04    5.000000   12.000000          1.000000    88.750000   \n",
       "50%    4.550550e+04    7.000000   14.000000          2.000000   185.500000   \n",
       "75%    7.122825e+04    8.000000   14.000000          2.000000   457.750000   \n",
       "max    2.000431e+06   16.000000   99.000000          4.000000  7541.000000   \n",
       "\n",
       "       Num Reviews  Star Rating  \n",
       "count   781.000000   781.000000  \n",
       "mean     17.610755     4.430602  \n",
       "std      38.143280     0.592083  \n",
       "min       1.000000     1.800000  \n",
       "25%       2.000000     4.100000  \n",
       "50%       6.000000     4.600000  \n",
       "75%      13.000000     4.900000  \n",
       "max     367.000000     5.000000  "
      ]
     },
     "execution_count": 12,
     "metadata": {},
     "output_type": "execute_result"
    }
   ],
   "source": [
    "df.describe()"
   ]
  },
  {
   "cell_type": "markdown",
   "metadata": {
    "index": 15
   },
   "source": [
    "Display the number of null values for each column"
   ]
  },
  {
   "cell_type": "code",
   "execution_count": 13,
   "metadata": {
    "index": 16,
    "scrolled": false
   },
   "outputs": [
    {
     "data": {
      "text/plain": [
       "Prod Id               0\n",
       "Min Age               0\n",
       "Max Age               0\n",
       "Difficulty Level      0\n",
       "Set Name              0\n",
       "Prod Desc            20\n",
       "Theme Name            0\n",
       "Piece Count           0\n",
       "Num Reviews         103\n",
       "Star Rating         103\n",
       "List Price           40\n",
       "dtype: int64"
      ]
     },
     "execution_count": 13,
     "metadata": {},
     "output_type": "execute_result"
    }
   ],
   "source": [
    "df.isna().sum()"
   ]
  },
  {
   "cell_type": "markdown",
   "metadata": {
    "index": 18
   },
   "source": [
    "There are four columns that contain null values. Of those four, `List Price`, which is your dependent variable, is probably the most concerning. \n",
    "\n",
    "Hence in the cell below, dropping all rows where `List Price` is null."
   ]
  },
  {
   "cell_type": "code",
   "execution_count": 14,
   "metadata": {
    "index": 19,
    "scrolled": false
   },
   "outputs": [
    {
     "data": {
      "text/plain": [
       "Prod Id              0\n",
       "Min Age              0\n",
       "Max Age              0\n",
       "Difficulty Level     0\n",
       "Set Name             0\n",
       "Prod Desc           20\n",
       "Theme Name           0\n",
       "Piece Count          0\n",
       "Num Reviews         95\n",
       "Star Rating         95\n",
       "List Price           0\n",
       "dtype: int64"
      ]
     },
     "execution_count": 14,
     "metadata": {},
     "output_type": "execute_result"
    }
   ],
   "source": [
    "df = df.dropna(subset=['List Price'])\n",
    "df.isna().sum()"
   ]
  },
  {
   "cell_type": "code",
   "execution_count": 15,
   "metadata": {
    "scrolled": false
   },
   "outputs": [
    {
     "name": "stdout",
     "output_type": "stream",
     "text": [
      "<class 'pandas.core.frame.DataFrame'>\n",
      "Int64Index: 844 entries, 0 to 882\n",
      "Data columns (total 11 columns):\n",
      " #   Column            Non-Null Count  Dtype  \n",
      "---  ------            --------------  -----  \n",
      " 0   Prod Id           844 non-null    int64  \n",
      " 1   Min Age           844 non-null    float64\n",
      " 2   Max Age           844 non-null    float64\n",
      " 3   Difficulty Level  844 non-null    int64  \n",
      " 4   Set Name          844 non-null    object \n",
      " 5   Prod Desc         824 non-null    object \n",
      " 6   Theme Name        844 non-null    object \n",
      " 7   Piece Count       844 non-null    int64  \n",
      " 8   Num Reviews       749 non-null    float64\n",
      " 9   Star Rating       749 non-null    float64\n",
      " 10  List Price        844 non-null    object \n",
      "dtypes: float64(4), int64(3), object(4)\n",
      "memory usage: 79.1+ KB\n"
     ]
    }
   ],
   "source": [
    "df.info()"
   ]
  },
  {
   "cell_type": "markdown",
   "metadata": {
    "index": 21
   },
   "source": [
    "To make things easier moving forward, in the cell below, reformatted the column names so spaces have been replaced with underscores and the text has been lowered"
   ]
  },
  {
   "cell_type": "code",
   "execution_count": 16,
   "metadata": {
    "index": 22,
    "scrolled": false
   },
   "outputs": [
    {
     "data": {
      "text/plain": [
       "Index(['prod_id', 'min_age', 'max_age', 'difficulty_level', 'set_name',\n",
       "       'prod_desc', 'theme_name', 'piece_count', 'num_reviews', 'star_rating',\n",
       "       'list_price'],\n",
       "      dtype='object')"
      ]
     },
     "execution_count": 16,
     "metadata": {},
     "output_type": "execute_result"
    }
   ],
   "source": [
    "df.columns = df.columns.str.replace(\" \", \"_\")\n",
    "df.columns = df.columns.str.lower()\n",
    "df.columns"
   ]
  },
  {
   "cell_type": "markdown",
   "metadata": {
    "index": 24
   },
   "source": [
    "To ensure columns are correctly reformatted, below assert statement is executed"
   ]
  },
  {
   "cell_type": "code",
   "execution_count": 17,
   "metadata": {
    "index": 25,
    "scrolled": false
   },
   "outputs": [],
   "source": [
    "assert 'min_age' in df.columns"
   ]
  },
  {
   "cell_type": "markdown",
   "metadata": {
    "index": 26
   },
   "source": [
    "Check the datatypes of the columns in the dataframe. \n",
    "> Remember, the target column and any columns you use as independent variables *must* have a numeric datatype. After inspecting the datatypes of the columns, convert columns to numeric where necessary. "
   ]
  },
  {
   "cell_type": "code",
   "execution_count": 18,
   "metadata": {
    "index": 27,
    "scrolled": false
   },
   "outputs": [
    {
     "name": "stdout",
     "output_type": "stream",
     "text": [
      "<class 'pandas.core.frame.DataFrame'>\n",
      "Int64Index: 844 entries, 0 to 882\n",
      "Data columns (total 11 columns):\n",
      " #   Column            Non-Null Count  Dtype  \n",
      "---  ------            --------------  -----  \n",
      " 0   prod_id           844 non-null    int64  \n",
      " 1   min_age           844 non-null    float64\n",
      " 2   max_age           844 non-null    float64\n",
      " 3   difficulty_level  844 non-null    int64  \n",
      " 4   set_name          844 non-null    object \n",
      " 5   prod_desc         824 non-null    object \n",
      " 6   theme_name        844 non-null    object \n",
      " 7   piece_count       844 non-null    int64  \n",
      " 8   num_reviews       749 non-null    float64\n",
      " 9   star_rating       749 non-null    float64\n",
      " 10  list_price        844 non-null    object \n",
      "dtypes: float64(4), int64(3), object(4)\n",
      "memory usage: 79.1+ KB\n"
     ]
    }
   ],
   "source": [
    "df.info()"
   ]
  },
  {
   "cell_type": "code",
   "execution_count": 19,
   "metadata": {
    "scrolled": false
   },
   "outputs": [
    {
     "name": "stderr",
     "output_type": "stream",
     "text": [
      "/var/folders/w8/mkthfjr50j5fw8q817j278c80000gn/T/ipykernel_3064/637004485.py:1: FutureWarning: The default value of regex will change from True to False in a future version. In addition, single character regular expressions will *not* be treated as literal strings when regex=True.\n",
      "  df['list_price'] = df['list_price'].str.replace(\"$\", \"\").astype(float)\n"
     ]
    },
    {
     "data": {
      "text/plain": [
       "0      49.990\n",
       "1      30.362\n",
       "2      19.990\n",
       "3      34.990\n",
       "4      19.990\n",
       "        ...  \n",
       "877     9.990\n",
       "878     9.990\n",
       "879     9.990\n",
       "880    19.990\n",
       "882    19.990\n",
       "Name: list_price, Length: 844, dtype: float64"
      ]
     },
     "execution_count": 19,
     "metadata": {},
     "output_type": "execute_result"
    }
   ],
   "source": [
    "df['list_price'] = df['list_price'].str.replace(\"$\", \"\").astype(float)\n",
    "df['list_price']"
   ]
  },
  {
   "cell_type": "markdown",
   "metadata": {
    "index": 29
   },
   "source": [
    "In the cell below, output the number of duplicate rows in the dataframe. If duplicates are found, drop them."
   ]
  },
  {
   "cell_type": "code",
   "execution_count": 20,
   "metadata": {
    "index": 30,
    "scrolled": false
   },
   "outputs": [
    {
     "data": {
      "text/plain": [
       "prod_id             100\n",
       "min_age             100\n",
       "max_age             100\n",
       "difficulty_level    100\n",
       "set_name            100\n",
       "prod_desc           100\n",
       "theme_name          100\n",
       "piece_count         100\n",
       "num_reviews          94\n",
       "star_rating          94\n",
       "list_price          100\n",
       "dtype: int64"
      ]
     },
     "execution_count": 20,
     "metadata": {},
     "output_type": "execute_result"
    }
   ],
   "source": [
    "duplicatedRows = df[df.duplicated()].count()\n",
    "duplicatedRows"
   ]
  },
  {
   "cell_type": "code",
   "execution_count": 21,
   "metadata": {
    "scrolled": false
   },
   "outputs": [
    {
     "data": {
      "text/plain": [
       "(744, 11)"
      ]
     },
     "execution_count": 21,
     "metadata": {},
     "output_type": "execute_result"
    }
   ],
   "source": [
    "df = df.drop_duplicates()\n",
    "df.shape"
   ]
  },
  {
   "cell_type": "markdown",
   "metadata": {
    "index": 32
   },
   "source": [
    "Visualize the distribution of the dependent variable"
   ]
  },
  {
   "cell_type": "code",
   "execution_count": 35,
   "metadata": {
    "index": 33,
    "scrolled": false
   },
   "outputs": [
    {
     "data": {
      "image/png": "[encoded data removed]",
      "text/plain": [
       "<Figure size 1080x720 with 1 Axes>"
      ]
     },
     "metadata": {
      "needs_background": "light"
     },
     "output_type": "display_data"
    }
   ],
   "source": [
    "fig, axis = plt.subplots(figsize=(15,10))\n",
    "\n",
    "plt.hist(df['list_price'])\n",
    "plt.title('List Price Distribution')\n",
    "plt.show()"
   ]
  },
  {
   "cell_type": "markdown",
   "metadata": {
    "index": 35
   },
   "source": [
    "# Create a Baseline Model\n",
    "\n",
    "Below, create a baseline model. \n",
    "\n",
    "To do this we must:\n",
    "\n",
    "1. Calculate the mean of the `list_price` column in the `train` dataframe.\n",
    "2. Now that we have calculated the mean of `list_price`, creating a list with the same length as the `list_price` column where every value in the list is the calculated mean.\n",
    "    - Store this list in the variable `baseline_preds`."
   ]
  },
  {
   "cell_type": "code",
   "execution_count": 23,
   "metadata": {
    "index": 36,
    "scrolled": false
   },
   "outputs": [
    {
     "name": "stdout",
     "output_type": "stream",
     "text": [
      "49.00058198924769\n"
     ]
    }
   ],
   "source": [
    "# Calculate the mean of the list_price column in the train dataframe.\n",
    "mean = df['list_price'].mean()\n",
    "mean\n",
    "\n",
    "# Create a list with the same length as the list_price column \n",
    "# where every value in the list is the calculated mean.\n",
    "baseline_preds = []\n",
    "\n",
    "for i in range(0, len(df['list_price'])):\n",
    "    baseline_preds.append(mean)\n",
    "\n",
    "print(mean)"
   ]
  },
  {
   "cell_type": "markdown",
   "metadata": {
    "index": 38
   },
   "source": [
    "Now that we have baseline predictions, we can use the predictions to calculate metrics about the model's performance. "
   ]
  },
  {
   "cell_type": "code",
   "execution_count": 24,
   "metadata": {
    "index": 39,
    "scrolled": false
   },
   "outputs": [
    {
     "name": "stdout",
     "output_type": "stream",
     "text": [
      "Baseline R^2:  0.0\n",
      "Baseline RMSE: 73.60214730890442\n"
     ]
    }
   ],
   "source": [
    "from sklearn.metrics import r2_score, mean_squared_error\n",
    "\n",
    "# Pass the list_price column and the baseline_preds list into the function r2_score\n",
    "baseline_r2 = r2_score(df.list_price, baseline_preds)\n",
    "\n",
    "# Pass the list_price column and the baseline_preds list \n",
    "# into the function mean_squared_error and setting squared to False\n",
    "baseline_rmse = mean_squared_error(df.list_price, baseline_preds, squared=False)\n",
    "\n",
    "\n",
    "print('Baseline R^2: ', baseline_r2)\n",
    "print('Baseline RMSE:', baseline_rmse)"
   ]
  },
  {
   "cell_type": "markdown",
   "metadata": {
    "index": 40
   },
   "source": [
    "**Interpret the resulting metrics for the baseline model.**\n",
    "\n",
    "- How is the model explaining the variance of the dependent variable?\n",
    "- On average, how many dollars off are the models predictions?"
   ]
  },
  {
   "cell_type": "markdown",
   "metadata": {
    "index": "Placeholder"
   },
   "source": [
    "- As the R2-Squared value is 0, it is not a good fit\n",
    "- Based on the RMSE value of 73.60, on average its $24 off on this model prediction"
   ]
  },
  {
   "cell_type": "markdown",
   "metadata": {
    "index": 42
   },
   "source": [
    "# 2. Interpret a Correlation Heatmap to Build a Baseline Model\n",
    "\n",
    "## Correlation Heatmap\n",
    "\n",
    "Produce a heatmap showing the correlations between all of the numeric values in the data. The x and y axis labels should indicate the pair of values that are being compared, and then the color and the number should represent the correlation. \n",
    "\n",
    "The most important column or row shows the correlations betyouen the target (listing price) and other attributes."
   ]
  },
  {
   "cell_type": "code",
   "execution_count": 36,
   "metadata": {
    "index": 43,
    "scrolled": false
   },
   "outputs": [],
   "source": [
    "import seaborn as sns\n",
    "import numpy as np"
   ]
  },
  {
   "cell_type": "code",
   "execution_count": 26,
   "metadata": {
    "scrolled": false
   },
   "outputs": [
    {
     "data": {
      "image/png": "[encoded data removed]",
      "text/plain": [
       "<Figure size 720x720 with 2 Axes>"
      ]
     },
     "metadata": {
      "needs_background": "light"
     },
     "output_type": "display_data"
    }
   ],
   "source": [
    "fig, ax = plt.subplots(figsize=(10, 10))\n",
    "ax = sns.heatmap(df.corr(), annot=True, cmap='BrBG', vmin=-1, vmax=1)"
   ]
  },
  {
   "cell_type": "code",
   "execution_count": 37,
   "metadata": {
    "index": 45,
    "scrolled": false
   },
   "outputs": [
    {
     "data": {
      "text/plain": [
       "<AxesSubplot:>"
      ]
     },
     "execution_count": 37,
     "metadata": {},
     "output_type": "execute_result"
    },
    {
     "data": {
      "image/png": "[encoded data removed]",
      "text/plain": [
       "<Figure size 576x864 with 2 Axes>"
      ]
     },
     "metadata": {
      "needs_background": "light"
     },
     "output_type": "display_data"
    }
   ],
   "source": [
    "plt.figure(figsize=(8, 12))\n",
    "sns.heatmap(df.corr()[['list_price']].\n",
    "                      sort_values(by='list_price', ascending=False), vmin=-1, vmax=1, annot=True, cmap='BrBG')"
   ]
  },
  {
   "cell_type": "markdown",
   "metadata": {
    "index": 47
   },
   "source": [
    "Based on the heatmap, the feature that is most strongly correlated with the target (`list_price`) is piece_count."
   ]
  },
  {
   "cell_type": "code",
   "execution_count": 38,
   "metadata": {
    "index": 48,
    "scrolled": false
   },
   "outputs": [],
   "source": [
    "most_correlated_feature = df['piece_count']"
   ]
  },
  {
   "cell_type": "markdown",
   "metadata": {
    "index": 50
   },
   "source": [
    "Create a scatter plot of that feature vs. listing price:"
   ]
  },
  {
   "cell_type": "code",
   "execution_count": 29,
   "metadata": {
    "index": 51,
    "scrolled": false
   },
   "outputs": [
    {
     "data": {
      "image/png": "[encoded data removed]",
      "text/plain": [
       "<Figure size 720x720 with 1 Axes>"
      ]
     },
     "metadata": {
      "needs_background": "light"
     },
     "output_type": "display_data"
    }
   ],
   "source": [
    "fig,ax = plt.subplots(figsize=(10, 10))\n",
    "ax = plt.scatter(df['list_price'], most_correlated_feature)\n",
    "plt.title('Correlation between List_Price and Piece_Count')\n",
    "plt.xlabel('list_price')\n",
    "plt.ylabel('piece_count')\n",
    "plt.show()"
   ]
  },
  {
   "cell_type": "markdown",
   "metadata": {
    "index": 54
   },
   "source": [
    "# 3. Build a Simple Linear Regression Model\n",
    "\n",
    "Now, we will build a linear regression model using just that feature. \n",
    "\n",
    "In the cell below, fit a statsmodels linear regression model to the data and output a summary for the model. "
   ]
  },
  {
   "cell_type": "code",
   "execution_count": 39,
   "metadata": {
    "index": 55
   },
   "outputs": [
    {
     "data": {
      "text/html": [
       "<table class=\"simpletable\">\n",
       "<caption>OLS Regression Results</caption>\n",
       "<tr>\n",
       "  <th>Dep. Variable:</th>       <td>list_price</td>    <th>  R-squared:         </th> <td>   0.743</td> \n",
       "</tr>\n",
       "<tr>\n",
       "  <th>Model:</th>                   <td>OLS</td>       <th>  Adj. R-squared:    </th> <td>   0.742</td> \n",
       "</tr>\n",
       "<tr>\n",
       "  <th>Method:</th>             <td>Least Squares</td>  <th>  F-statistic:       </th> <td>   2141.</td> \n",
       "</tr>\n",
       "<tr>\n",
       "  <th>Date:</th>             <td>Wed, 18 May 2022</td> <th>  Prob (F-statistic):</th> <td>6.91e-221</td>\n",
       "</tr>\n",
       "<tr>\n",
       "  <th>Time:</th>                 <td>22:09:23</td>     <th>  Log-Likelihood:    </th> <td> -3749.0</td> \n",
       "</tr>\n",
       "<tr>\n",
       "  <th>No. Observations:</th>      <td>   744</td>      <th>  AIC:               </th> <td>   7502.</td> \n",
       "</tr>\n",
       "<tr>\n",
       "  <th>Df Residuals:</th>          <td>   742</td>      <th>  BIC:               </th> <td>   7511.</td> \n",
       "</tr>\n",
       "<tr>\n",
       "  <th>Df Model:</th>              <td>     1</td>      <th>                     </th>     <td> </td>    \n",
       "</tr>\n",
       "<tr>\n",
       "  <th>Covariance Type:</th>      <td>nonrobust</td>    <th>                     </th>     <td> </td>    \n",
       "</tr>\n",
       "</table>\n",
       "<table class=\"simpletable\">\n",
       "<tr>\n",
       "       <td></td>          <th>coef</th>     <th>std err</th>      <th>t</th>      <th>P>|t|</th>  <th>[0.025</th>    <th>0.975]</th>  \n",
       "</tr>\n",
       "<tr>\n",
       "  <th>Intercept</th>   <td>   11.4565</td> <td>    1.593</td> <td>    7.192</td> <td> 0.000</td> <td>    8.329</td> <td>   14.584</td>\n",
       "</tr>\n",
       "<tr>\n",
       "  <th>piece_count</th> <td>    0.0875</td> <td>    0.002</td> <td>   46.273</td> <td> 0.000</td> <td>    0.084</td> <td>    0.091</td>\n",
       "</tr>\n",
       "</table>\n",
       "<table class=\"simpletable\">\n",
       "<tr>\n",
       "  <th>Omnibus:</th>       <td>1141.526</td> <th>  Durbin-Watson:     </th>  <td>   1.961</td> \n",
       "</tr>\n",
       "<tr>\n",
       "  <th>Prob(Omnibus):</th>  <td> 0.000</td>  <th>  Jarque-Bera (JB):  </th> <td>464258.231</td>\n",
       "</tr>\n",
       "<tr>\n",
       "  <th>Skew:</th>           <td> 8.756</td>  <th>  Prob(JB):          </th>  <td>    0.00</td> \n",
       "</tr>\n",
       "<tr>\n",
       "  <th>Kurtosis:</th>       <td>124.117</td> <th>  Cond. No.          </th>  <td>    978.</td> \n",
       "</tr>\n",
       "</table><br/><br/>Notes:<br/>[1] Standard Errors assume that the covariance matrix of the errors is correctly specified."
      ],
      "text/plain": [
       "<class 'statsmodels.iolib.summary.Summary'>\n",
       "\"\"\"\n",
       "                            OLS Regression Results                            \n",
       "==============================================================================\n",
       "Dep. Variable:             list_price   R-squared:                       0.743\n",
       "Model:                            OLS   Adj. R-squared:                  0.742\n",
       "Method:                 Least Squares   F-statistic:                     2141.\n",
       "Date:                Wed, 18 May 2022   Prob (F-statistic):          6.91e-221\n",
       "Time:                        22:09:23   Log-Likelihood:                -3749.0\n",
       "No. Observations:                 744   AIC:                             7502.\n",
       "Df Residuals:                     742   BIC:                             7511.\n",
       "Df Model:                           1                                         \n",
       "Covariance Type:            nonrobust                                         \n",
       "===============================================================================\n",
       "                  coef    std err          t      P>|t|      [0.025      0.975]\n",
       "-------------------------------------------------------------------------------\n",
       "Intercept      11.4565      1.593      7.192      0.000       8.329      14.584\n",
       "piece_count     0.0875      0.002     46.273      0.000       0.084       0.091\n",
       "==============================================================================\n",
       "Omnibus:                     1141.526   Durbin-Watson:                   1.961\n",
       "Prob(Omnibus):                  0.000   Jarque-Bera (JB):           464258.231\n",
       "Skew:                           8.756   Prob(JB):                         0.00\n",
       "Kurtosis:                     124.117   Cond. No.                         978.\n",
       "==============================================================================\n",
       "\n",
       "Notes:\n",
       "[1] Standard Errors assume that the covariance matrix of the errors is correctly specified.\n",
       "\"\"\""
      ]
     },
     "execution_count": 39,
     "metadata": {},
     "output_type": "execute_result"
    }
   ],
   "source": [
    "import statsmodels.formula.api as smf\n",
    "from statsmodels.formula.api import ols\n",
    "\n",
    "f = 'list_price~piece_count'\n",
    "model = ols(formula=f, data=df).fit()\n",
    "model.summary()"
   ]
  },
  {
   "cell_type": "markdown",
   "metadata": {
    "index": 57
   },
   "source": [
    "# 4. Interpret the Simple Linear Regression Model"
   ]
  },
  {
   "cell_type": "markdown",
   "metadata": {
    "index": 58
   },
   "source": [
    "Now that the model has been fit, we should interpret the model parameters. \n",
    "\n",
    "Specifically:\n",
    "#### What do the coefficients for the intercept and independent variable suggest about the dependent variable?\n",
    "   The data means the value of list_price increases by 0.0875 for each unit increase in the piece count \n",
    "#### Are the coefficients found to be statistically significant?\n",
    "   As p value is 0, it implies high significance\n",
    "#### What are the confidence intervals for the coefficients?\n",
    "   Statistics suggests that 95% confident the population mean lies within the range of 0.084 and 0.091\n",
    "    \n",
    "#### Do the relationships found by the model seem plausible? \n",
    "   Yes model suggests there is a relationship between chosen dependent and independent variable"
   ]
  },
  {
   "cell_type": "markdown",
   "metadata": {
    "index": "Placeholder"
   },
   "source": [
    "#### Other Observations :\n",
    "\n",
    "Given R-Squared is 0.743, 74% of the variation in dependent variable is explained by independent variable in our model"
   ]
  },
  {
   "cell_type": "markdown",
   "metadata": {
    "index": 60
   },
   "source": [
    "# 5. Evaluate the Simple Linear Regression Model"
   ]
  },
  {
   "cell_type": "markdown",
   "metadata": {
    "index": 61
   },
   "source": [
    "Now that the model parameters have been interpreted, the model must be assessed based on predictive metrics and whether or not the model is meeting the assumptions of linear regression. "
   ]
  },
  {
   "cell_type": "markdown",
   "metadata": {
    "index": 62
   },
   "source": [
    "### Compare the $R^2$ and the Root Mean Squared Error of the simple linear regression model with the baseline model. "
   ]
  },
  {
   "cell_type": "code",
   "execution_count": 31,
   "metadata": {
    "index": 63,
    "scrolled": false
   },
   "outputs": [
    {
     "name": "stdout",
     "output_type": "stream",
     "text": [
      "Baseline R^2:  0.0\n",
      "Baseline RMSE: 73.60214730890442\n",
      "----------------------------\n",
      "Regression R^2:  0.7426440497844149\n",
      "Regression RMSE: 37.33856230937886\n"
     ]
    }
   ],
   "source": [
    "model_r2 = r2_score(df['list_price'], model.predict())\n",
    "# model_r2 = model.rsquared\n",
    "\n",
    "# model_rmse = np.sqrt(model.mse_model)\n",
    "\n",
    "model_rmse = mean_squared_error(df.list_price, model.predict(), squared=False)\n",
    "# model_rmse = np.sqrt(model_rmse)\n",
    "\n",
    "\n",
    "print('Baseline R^2: ', baseline_r2)\n",
    "print('Baseline RMSE:', baseline_rmse)\n",
    "print('----------------------------')\n",
    "print('Regression R^2: ', model_r2)\n",
    "print('Regression RMSE:', model_rmse)"
   ]
  },
  {
   "cell_type": "markdown",
   "metadata": {
    "index": 65
   },
   "source": [
    "### Interpret the model metrics"
   ]
  },
  {
   "cell_type": "markdown",
   "metadata": {
    "index": "Placeholder"
   },
   "source": [
    "#### Comparison of R-Squared between Baseline and Linear Regression Model :\n",
    "\n",
    "    R-Squared value of 0 derived from Baseline explains  a poor fit between target and response variable whereas Linear model predicts 73% of variations in list_price variable are explained by piece_count.\n",
    "    \n",
    "#### Comparison of RMSE between Baseline and Linear Regression Model :\n",
    "\n",
    "    As Linear model has lower RMSE compared to Baseline, it seems to be best fit of the give dataset"
   ]
  },
  {
   "cell_type": "markdown",
   "metadata": {
    "index": 67
   },
   "source": [
    "### Check the assumptions of simple linear regression"
   ]
  },
  {
   "cell_type": "markdown",
   "metadata": {
    "index": 68
   },
   "source": [
    "#### Investigating Linearity\n",
    "\n",
    "First, let's check whether the linearity assumption holds."
   ]
  },
  {
   "cell_type": "code",
   "execution_count": 32,
   "metadata": {
    "index": 69,
    "scrolled": false
   },
   "outputs": [
    {
     "data": {
      "image/png": "[encoded data removed]",
      "text/plain": [
       "<Figure size 432x288 with 1 Axes>"
      ]
     },
     "metadata": {
      "needs_background": "light"
     },
     "output_type": "display_data"
    }
   ],
   "source": [
    "# Run this cell without changes\n",
    "\n",
    "preds = model.predict()\n",
    "fig, ax = plt.subplots()\n",
    "\n",
    "perfect_line = np.arange(df.list_price.min(), df.list_price.max())\n",
    "ax.plot(perfect_line, linestyle=\"--\", color=\"orange\", label=\"Perfect Fit\")\n",
    "ax.scatter(df.list_price, preds, alpha=0.5)\n",
    "ax.set_xlabel(\"Actual Price\")\n",
    "ax.set_ylabel(\"Predicted Price\")\n",
    "ax.legend();"
   ]
  },
  {
   "cell_type": "markdown",
   "metadata": {
    "index": 71
   },
   "source": [
    "Are you violating the linearity assumption?"
   ]
  },
  {
   "cell_type": "markdown",
   "metadata": {
    "index": "Placeholder"
   },
   "source": [
    "It appears to exists linear relationship between two variables except that outliers presence may introduce bias."
   ]
  },
  {
   "cell_type": "markdown",
   "metadata": {
    "index": 73
   },
   "source": [
    "#### Investigating Normality\n",
    "\n",
    "Now let's check whether the normality assumption holds for our model."
   ]
  },
  {
   "cell_type": "code",
   "execution_count": 33,
   "metadata": {
    "index": 74,
    "scrolled": false
   },
   "outputs": [
    {
     "name": "stderr",
     "output_type": "stream",
     "text": [
      "/opt/anaconda3/lib/python3.9/site-packages/statsmodels/graphics/gofplots.py:993: UserWarning: marker is redundantly defined by the 'marker' keyword argument and the fmt string \"bo\" (-> marker='o'). The keyword argument will take precedence.\n",
      "  ax.plot(x, y, fmt, **plot_style)\n"
     ]
    },
    {
     "data": {
      "image/png": "[encoded data removed]",
      "text/plain": [
       "<Figure size 432x288 with 1 Axes>"
      ]
     },
     "metadata": {
      "needs_background": "light"
     },
     "output_type": "display_data"
    }
   ],
   "source": [
    "# Run this code without changes\n",
    "import scipy.stats as stats\n",
    "import statsmodels.api as sm\n",
    "\n",
    "residuals = (df.list_price - preds)\n",
    "sm.graphics.qqplot(residuals, dist=stats.norm, line='45', fit=True);"
   ]
  },
  {
   "cell_type": "markdown",
   "metadata": {
    "index": 76
   },
   "source": [
    "Are you violating the normality assumption?"
   ]
  },
  {
   "cell_type": "markdown",
   "metadata": {
    "index": "Placeholder"
   },
   "source": [
    "As the residuals lie around 45-degree line, it suggests that residuals are normally distributed."
   ]
  },
  {
   "cell_type": "markdown",
   "metadata": {
    "index": 78
   },
   "source": [
    "#### Investigating Homoscedasticity\n",
    "\n",
    "Now let's check whether the model's errors are indeed homoscedastic or if they violate this principle and display heteroscedasticity."
   ]
  },
  {
   "cell_type": "code",
   "execution_count": 34,
   "metadata": {
    "index": 79,
    "scrolled": false
   },
   "outputs": [
    {
     "data": {
      "image/png": "[encoded data removed]",
      "text/plain": [
       "<Figure size 432x288 with 1 Axes>"
      ]
     },
     "metadata": {
      "needs_background": "light"
     },
     "output_type": "display_data"
    }
   ],
   "source": [
    "# Run this cell without changes\n",
    "fig, ax = plt.subplots()\n",
    "\n",
    "ax.scatter(preds, residuals, alpha=0.5)\n",
    "ax.plot(preds, [0 for i in range(len(df))])\n",
    "ax.set_xlabel(\"Predicted Value\")\n",
    "ax.set_ylabel(\"Actual - Predicted Value\");"
   ]
  },
  {
   "cell_type": "markdown",
   "metadata": {
    "index": 81
   },
   "source": [
    "Are you violating the homoscedasticity assumption?"
   ]
  },
  {
   "cell_type": "markdown",
   "metadata": {
    "index": "Placeholder"
   },
   "source": [
    "The scatterplot illustrates homoscedasticity in the data as its not following any particular pattern though we have outliers in the data that are scatterd out of the expected range."
   ]
  },
  {
   "cell_type": "markdown",
   "metadata": {
    "index": 83
   },
   "source": [
    "### Linear Regression Assumptions Conclusion"
   ]
  },
  {
   "cell_type": "markdown",
   "metadata": {
    "index": "Placeholder"
   },
   "source": [
    "Given p value is 0, it lead us to reject null hypothesis and conclude that there is relationship between list_price and piece_count. The regression coefficient represents that list_price increases by 0.0875 with each unit increase in the piece_count variable. The coefficient of determination suggests that 74.3% of variance in list_price can be explained by piece_count alone. \n",
    "\n",
    "Although linear assumptions are not perfect, model can be reassesed by removing outliers to compare if its improves performance of model fitness to predict better outcomes."
   ]
  }
 ],
 "metadata": {
  "kernelspec": {
   "display_name": "Python 3 (ipykernel)",
   "language": "python",
   "name": "python3"
  },
  "language_info": {
   "codemirror_mode": {
    "name": "ipython",
    "version": 3
   },
   "file_extension": ".py",
   "mimetype": "text/x-python",
   "name": "python",
   "nbconvert_exporter": "python",
   "pygments_lexer": "ipython3",
   "version": "3.9.7"
  }
 },
 "nbformat": 4,
 "nbformat_minor": 4
}
